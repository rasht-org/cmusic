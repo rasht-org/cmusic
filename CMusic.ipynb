{
 "cells": [
  {
   "attachments": {},
   "cell_type": "markdown",
   "metadata": {},
   "source": [
    "# CMusic\n",
    "\n",
    "A python script to convert music lyric files into stable diffusion prompts\n",
    "\n",
    "Available at github: [CMusic github repository](https://github.com/rasht-org/cmusic)"
   ]
  },
  {
   "attachments": {},
   "cell_type": "markdown",
   "metadata": {},
   "source": [
    "## Install dependencies\n",
    "\n",
    "Run next section to clone script and install dependencies. It's all automatic ..."
   ]
  },
  {
   "cell_type": "code",
   "execution_count": 18,
   "metadata": {},
   "outputs": [],
   "source": [
    "from IPython.display import clear_output\n",
    "\n",
    "%cd /content/\n",
    "repository_url = \"https://github.com/rasht-org/cmusic\"\n",
    "repository_branch = \"main\"\n",
    "\n",
    "! git clone {repository_url}\n",
    "%cd /content/cmusic\n",
    "! git checkout {repository_branch}\n",
    "\n",
    "%pip install -r requirements.txt\n",
    "\n",
    "clear_output(wait=False)"
   ]
  },
  {
   "attachments": {},
   "cell_type": "markdown",
   "metadata": {},
   "source": [
    "## Run the code\n",
    "\n",
    "runing next section with start gradio server and gives you a web ui to work with script."
   ]
  },
  {
   "cell_type": "code",
   "execution_count": null,
   "metadata": {},
   "outputs": [],
   "source": [
    "%run -i  cmusic_gradio.py"
   ]
  }
 ],
 "metadata": {
  "kernelspec": {
   "display_name": "Python 3",
   "language": "python",
   "name": "python3"
  },
  "language_info": {
   "codemirror_mode": {
    "name": "ipython",
    "version": 3
   },
   "file_extension": ".py",
   "mimetype": "text/x-python",
   "name": "python",
   "nbconvert_exporter": "python",
   "pygments_lexer": "ipython3",
   "version": "3.10.6"
  },
  "orig_nbformat": 4
 },
 "nbformat": 4,
 "nbformat_minor": 2
}
