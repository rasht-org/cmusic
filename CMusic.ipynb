{
 "cells": [
  {
   "attachments": {},
   "cell_type": "markdown",
   "metadata": {},
   "source": [
    "# CMusic\n",
    "\n",
    "A python script to convert music lyric files into stable diffusion prompts\n",
    "\n",
    "Available at github: [CMusic github repository](https://github.com/rasht-org/cmusic)"
   ]
  },
  {
   "cell_type": "code",
   "execution_count": 18,
   "metadata": {},
   "outputs": [],
   "source": [
    "# @markdown # First run this section clone code and install dependencies\n",
    "\n",
    "# @markdown ---\n",
    "\n",
    "from IPython.display import clear_output\n",
    "\n",
    "%cd /content/\n",
    "repository_url = \"https://github.com/rasht-org/cmusic\"\n",
    "repository_branch = \"main\"\n",
    "\n",
    "! git clone {repository_url}\n",
    "%cd /content/cmusic\n",
    "! git checkout {repository_branch}\n",
    "\n",
    "%pip install -r requirements.txt\n",
    "\n",
    "clear_output(wait=False)"
   ]
  },
  {
   "cell_type": "code",
   "execution_count": 20,
   "metadata": {},
   "outputs": [
    {
     "name": "stdout",
     "output_type": "stream",
     "text": [
      "Running on local URL:  http://127.0.0.1:7860\n",
      "\n",
      "To create a public link, set `share=True` in `launch()`.\n"
     ]
    },
    {
     "data": {
      "text/html": [
       "<div><iframe src=\"http://127.0.0.1:7860/\" width=\"100%\" height=\"500\" allow=\"autoplay; camera; microphone; clipboard-read; clipboard-write;\" frameborder=\"0\" allowfullscreen></iframe></div>"
      ],
      "text/plain": [
       "<IPython.core.display.HTML object>"
      ]
     },
     "metadata": {},
     "output_type": "display_data"
    }
   ],
   "source": [
    "# @markdown # Run the code\n",
    "\n",
    "# @markdown ---\n",
    "\n",
    "%run -i  cmusic_gradio.py"
   ]
  }
 ],
 "metadata": {
  "kernelspec": {
   "display_name": "Python 3",
   "language": "python",
   "name": "python3"
  },
  "language_info": {
   "codemirror_mode": {
    "name": "ipython",
    "version": 3
   },
   "file_extension": ".py",
   "mimetype": "text/x-python",
   "name": "python",
   "nbconvert_exporter": "python",
   "pygments_lexer": "ipython3",
   "version": "3.10.6"
  },
  "orig_nbformat": 4
 },
 "nbformat": 4,
 "nbformat_minor": 2
}
