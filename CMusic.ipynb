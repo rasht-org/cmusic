{
 "cells": [
  {
   "attachments": {},
   "cell_type": "markdown",
   "metadata": {},
   "source": [
    "# CMusic\n",
    "\n",
    "A python script to convert music lyric files into stable diffusion prompts\n",
    "\n",
    "Available at github: [CMusic github repository](https://github.com/rasht-org/cmusic)"
   ]
  },
  {
   "cell_type": "code",
   "execution_count": 6,
   "metadata": {},
   "outputs": [
    {
     "name": "stdout",
     "output_type": "stream",
     "text": [
      "[WinError 2] The system cannot find the file specified: '/content/'\n",
      "e:\\Virtual\\cmusic\n",
      "[WinError 3] The system cannot find the path specified: '/content/cmusic'\n",
      "e:\\Virtual\\cmusic\n"
     ]
    },
    {
     "name": "stderr",
     "output_type": "stream",
     "text": [
      "fatal: destination path 'cmusic' already exists and is not an empty directory.\n"
     ]
    },
    {
     "name": "stdout",
     "output_type": "stream",
     "text": [
      "M\t.gitignore\n",
      "A\tCMusic.ipynb\n",
      "A\tadapters/json_adapter.py\n",
      "A\tadapters/lrc_adapter.py\n",
      "M\tadapters/lyricsify_adapter.py\n",
      "M\tclasses/lyric.py\n",
      "M\tclasses/project.py\n",
      "M\tcmusic.py\n",
      "A\tcmusic_gradio.py\n",
      "M\trequirements.txt\n",
      "Your branch is up to date with 'origin/main'.\n"
     ]
    },
    {
     "name": "stderr",
     "output_type": "stream",
     "text": [
      "Already on 'main'\n"
     ]
    },
    {
     "name": "stdout",
     "output_type": "stream",
     "text": [
      "Requirement already satisfied: beautifulsoup4==4.12.2 in c:\\python310\\lib\\site-packages (from -r requirements.txt (line 1)) (4.12.2)\n",
      "Requirement already satisfied: gradio==3.35.2 in c:\\python310\\lib\\site-packages (from -r requirements.txt (line 2)) (3.35.2)\n",
      "Requirement already satisfied: pick==2.2.0 in c:\\python310\\lib\\site-packages (from -r requirements.txt (line 3)) (2.2.0)\n",
      "Requirement already satisfied: python-dotenv==1.0.0 in c:\\python310\\lib\\site-packages (from -r requirements.txt (line 4)) (1.0.0)\n",
      "Requirement already satisfied: Requests==2.31.0 in c:\\python310\\lib\\site-packages (from -r requirements.txt (line 5)) (2.31.0)\n",
      "Requirement already satisfied: rich==13.4.2 in c:\\python310\\lib\\site-packages (from -r requirements.txt (line 6)) (13.4.2)\n",
      "Requirement already satisfied: soupsieve>1.2 in c:\\python310\\lib\\site-packages (from beautifulsoup4==4.12.2->-r requirements.txt (line 1)) (2.4.1)\n",
      "Requirement already satisfied: aiofiles in c:\\python310\\lib\\site-packages (from gradio==3.35.2->-r requirements.txt (line 2)) (23.1.0)\n",
      "Requirement already satisfied: aiohttp in c:\\python310\\lib\\site-packages (from gradio==3.35.2->-r requirements.txt (line 2)) (3.8.4)\n",
      "Requirement already satisfied: altair>=4.2.0 in c:\\python310\\lib\\site-packages (from gradio==3.35.2->-r requirements.txt (line 2)) (5.0.1)\n",
      "Requirement already satisfied: fastapi in c:\\python310\\lib\\site-packages (from gradio==3.35.2->-r requirements.txt (line 2)) (0.97.0)\n",
      "Requirement already satisfied: ffmpy in c:\\python310\\lib\\site-packages (from gradio==3.35.2->-r requirements.txt (line 2)) (0.3.0)\n",
      "Requirement already satisfied: gradio-client>=0.2.7 in c:\\python310\\lib\\site-packages (from gradio==3.35.2->-r requirements.txt (line 2)) (0.2.7)\n",
      "Requirement already satisfied: httpx in c:\\python310\\lib\\site-packages (from gradio==3.35.2->-r requirements.txt (line 2)) (0.24.1)\n",
      "Requirement already satisfied: huggingface-hub>=0.14.0 in c:\\python310\\lib\\site-packages (from gradio==3.35.2->-r requirements.txt (line 2)) (0.15.1)\n",
      "Requirement already satisfied: jinja2 in c:\\python310\\lib\\site-packages (from gradio==3.35.2->-r requirements.txt (line 2)) (3.1.2)\n",
      "Requirement already satisfied: markdown-it-py[linkify]>=2.0.0 in c:\\python310\\lib\\site-packages (from gradio==3.35.2->-r requirements.txt (line 2)) (2.2.0)\n",
      "Requirement already satisfied: markupsafe in c:\\python310\\lib\\site-packages (from gradio==3.35.2->-r requirements.txt (line 2)) (2.1.2)\n",
      "Requirement already satisfied: matplotlib in c:\\python310\\lib\\site-packages (from gradio==3.35.2->-r requirements.txt (line 2)) (3.7.1)\n",
      "Requirement already satisfied: mdit-py-plugins<=0.3.3 in c:\\python310\\lib\\site-packages (from gradio==3.35.2->-r requirements.txt (line 2)) (0.3.3)\n",
      "Requirement already satisfied: numpy in c:\\python310\\lib\\site-packages (from gradio==3.35.2->-r requirements.txt (line 2)) (1.23.5)\n",
      "Requirement already satisfied: orjson in c:\\python310\\lib\\site-packages (from gradio==3.35.2->-r requirements.txt (line 2)) (3.9.1)\n",
      "Requirement already satisfied: pandas in c:\\python310\\lib\\site-packages (from gradio==3.35.2->-r requirements.txt (line 2)) (2.0.2)\n",
      "Requirement already satisfied: pillow in c:\\python310\\lib\\site-packages (from gradio==3.35.2->-r requirements.txt (line 2)) (9.5.0)\n",
      "Requirement already satisfied: pydantic in c:\\python310\\lib\\site-packages (from gradio==3.35.2->-r requirements.txt (line 2)) (1.10.9)\n",
      "Requirement already satisfied: pydub in c:\\python310\\lib\\site-packages (from gradio==3.35.2->-r requirements.txt (line 2)) (0.25.1)\n",
      "Requirement already satisfied: pygments>=2.12.0 in c:\\python310\\lib\\site-packages (from gradio==3.35.2->-r requirements.txt (line 2)) (2.14.0)\n",
      "Requirement already satisfied: python-multipart in c:\\python310\\lib\\site-packages (from gradio==3.35.2->-r requirements.txt (line 2)) (0.0.6)\n",
      "Requirement already satisfied: pyyaml in c:\\python310\\lib\\site-packages (from gradio==3.35.2->-r requirements.txt (line 2)) (6.0)\n",
      "Requirement already satisfied: semantic-version in c:\\python310\\lib\\site-packages (from gradio==3.35.2->-r requirements.txt (line 2)) (2.10.0)\n",
      "Requirement already satisfied: uvicorn>=0.14.0 in c:\\python310\\lib\\site-packages (from gradio==3.35.2->-r requirements.txt (line 2)) (0.22.0)\n",
      "Requirement already satisfied: websockets>=10.0 in c:\\python310\\lib\\site-packages (from gradio==3.35.2->-r requirements.txt (line 2)) (11.0.3)\n",
      "Requirement already satisfied: windows-curses<3.0.0,>=2.2.0 in c:\\python310\\lib\\site-packages (from pick==2.2.0->-r requirements.txt (line 3)) (2.3.1)\n",
      "Requirement already satisfied: charset-normalizer<4,>=2 in c:\\python310\\lib\\site-packages (from Requests==2.31.0->-r requirements.txt (line 5)) (3.1.0)\n",
      "Requirement already satisfied: idna<4,>=2.5 in c:\\python310\\lib\\site-packages (from Requests==2.31.0->-r requirements.txt (line 5)) (3.4)\n",
      "Requirement already satisfied: urllib3<3,>=1.21.1 in c:\\python310\\lib\\site-packages (from Requests==2.31.0->-r requirements.txt (line 5)) (1.26.15)\n",
      "Requirement already satisfied: certifi>=2017.4.17 in c:\\python310\\lib\\site-packages (from Requests==2.31.0->-r requirements.txt (line 5)) (2022.12.7)\n",
      "Requirement already satisfied: jsonschema>=3.0 in c:\\python310\\lib\\site-packages (from altair>=4.2.0->gradio==3.35.2->-r requirements.txt (line 2)) (4.17.3)\n",
      "Requirement already satisfied: toolz in c:\\python310\\lib\\site-packages (from altair>=4.2.0->gradio==3.35.2->-r requirements.txt (line 2)) (0.12.0)\n",
      "Requirement already satisfied: typing-extensions>=4.0.1 in c:\\python310\\lib\\site-packages (from altair>=4.2.0->gradio==3.35.2->-r requirements.txt (line 2)) (4.5.0)\n",
      "Requirement already satisfied: fsspec in c:\\python310\\lib\\site-packages (from gradio-client>=0.2.7->gradio==3.35.2->-r requirements.txt (line 2)) (2023.6.0)\n",
      "Requirement already satisfied: packaging in c:\\python310\\lib\\site-packages (from gradio-client>=0.2.7->gradio==3.35.2->-r requirements.txt (line 2)) (23.0)\n",
      "Requirement already satisfied: filelock in c:\\python310\\lib\\site-packages (from huggingface-hub>=0.14.0->gradio==3.35.2->-r requirements.txt (line 2)) (3.10.7)\n",
      "Requirement already satisfied: tqdm>=4.42.1 in c:\\python310\\lib\\site-packages (from huggingface-hub>=0.14.0->gradio==3.35.2->-r requirements.txt (line 2)) (4.65.0)\n",
      "Requirement already satisfied: mdurl~=0.1 in c:\\python310\\lib\\site-packages (from markdown-it-py[linkify]>=2.0.0->gradio==3.35.2->-r requirements.txt (line 2)) (0.1.2)\n",
      "Requirement already satisfied: linkify-it-py<3,>=1 in c:\\python310\\lib\\site-packages (from markdown-it-py[linkify]>=2.0.0->gradio==3.35.2->-r requirements.txt (line 2)) (2.0.2)\n",
      "Requirement already satisfied: python-dateutil>=2.8.2 in c:\\python310\\lib\\site-packages (from pandas->gradio==3.35.2->-r requirements.txt (line 2)) (2.8.2)\n",
      "Requirement already satisfied: pytz>=2020.1 in c:\\python310\\lib\\site-packages (from pandas->gradio==3.35.2->-r requirements.txt (line 2)) (2023.3)\n",
      "Requirement already satisfied: tzdata>=2022.1 in c:\\python310\\lib\\site-packages (from pandas->gradio==3.35.2->-r requirements.txt (line 2)) (2023.3)\n",
      "Requirement already satisfied: click>=7.0 in c:\\python310\\lib\\site-packages (from uvicorn>=0.14.0->gradio==3.35.2->-r requirements.txt (line 2)) (8.1.3)\n",
      "Requirement already satisfied: h11>=0.8 in c:\\python310\\lib\\site-packages (from uvicorn>=0.14.0->gradio==3.35.2->-r requirements.txt (line 2)) (0.14.0)\n",
      "Requirement already satisfied: attrs>=17.3.0 in c:\\python310\\lib\\site-packages (from aiohttp->gradio==3.35.2->-r requirements.txt (line 2)) (22.2.0)\n",
      "Requirement already satisfied: multidict<7.0,>=4.5 in c:\\python310\\lib\\site-packages (from aiohttp->gradio==3.35.2->-r requirements.txt (line 2)) (6.0.4)\n",
      "Requirement already satisfied: async-timeout<5.0,>=4.0.0a3 in c:\\python310\\lib\\site-packages (from aiohttp->gradio==3.35.2->-r requirements.txt (line 2)) (4.0.2)\n",
      "Requirement already satisfied: yarl<2.0,>=1.0 in c:\\python310\\lib\\site-packages (from aiohttp->gradio==3.35.2->-r requirements.txt (line 2)) (1.9.2)\n",
      "Requirement already satisfied: frozenlist>=1.1.1 in c:\\python310\\lib\\site-packages (from aiohttp->gradio==3.35.2->-r requirements.txt (line 2)) (1.3.3)\n",
      "Requirement already satisfied: aiosignal>=1.1.2 in c:\\python310\\lib\\site-packages (from aiohttp->gradio==3.35.2->-r requirements.txt (line 2)) (1.3.1)\n",
      "Requirement already satisfied: starlette<0.28.0,>=0.27.0 in c:\\python310\\lib\\site-packages (from fastapi->gradio==3.35.2->-r requirements.txt (line 2)) (0.27.0)\n",
      "Requirement already satisfied: httpcore<0.18.0,>=0.15.0 in c:\\python310\\lib\\site-packages (from httpx->gradio==3.35.2->-r requirements.txt (line 2)) (0.17.2)\n",
      "Requirement already satisfied: sniffio in c:\\python310\\lib\\site-packages (from httpx->gradio==3.35.2->-r requirements.txt (line 2)) (1.3.0)\n",
      "Requirement already satisfied: contourpy>=1.0.1 in c:\\python310\\lib\\site-packages (from matplotlib->gradio==3.35.2->-r requirements.txt (line 2)) (1.0.7)\n",
      "Requirement already satisfied: cycler>=0.10 in c:\\python310\\lib\\site-packages (from matplotlib->gradio==3.35.2->-r requirements.txt (line 2)) (0.11.0)\n",
      "Requirement already satisfied: fonttools>=4.22.0 in c:\\python310\\lib\\site-packages (from matplotlib->gradio==3.35.2->-r requirements.txt (line 2)) (4.39.3)\n",
      "Requirement already satisfied: kiwisolver>=1.0.1 in c:\\python310\\lib\\site-packages (from matplotlib->gradio==3.35.2->-r requirements.txt (line 2)) (1.4.4)\n",
      "Requirement already satisfied: pyparsing>=2.3.1 in c:\\python310\\lib\\site-packages (from matplotlib->gradio==3.35.2->-r requirements.txt (line 2)) (3.0.9)\n",
      "Requirement already satisfied: colorama in c:\\users\\moham\\appdata\\roaming\\python\\python310\\site-packages (from click>=7.0->uvicorn>=0.14.0->gradio==3.35.2->-r requirements.txt (line 2)) (0.4.6)\n",
      "Requirement already satisfied: anyio<5.0,>=3.0 in c:\\python310\\lib\\site-packages (from httpcore<0.18.0,>=0.15.0->httpx->gradio==3.35.2->-r requirements.txt (line 2)) (3.7.0)\n",
      "Requirement already satisfied: pyrsistent!=0.17.0,!=0.17.1,!=0.17.2,>=0.14.0 in c:\\python310\\lib\\site-packages (from jsonschema>=3.0->altair>=4.2.0->gradio==3.35.2->-r requirements.txt (line 2)) (0.19.3)\n",
      "Requirement already satisfied: uc-micro-py in c:\\python310\\lib\\site-packages (from linkify-it-py<3,>=1->markdown-it-py[linkify]>=2.0.0->gradio==3.35.2->-r requirements.txt (line 2)) (1.0.2)\n",
      "Requirement already satisfied: six>=1.5 in c:\\python310\\lib\\site-packages (from python-dateutil>=2.8.2->pandas->gradio==3.35.2->-r requirements.txt (line 2)) (1.16.0)\n",
      "Requirement already satisfied: exceptiongroup in c:\\python310\\lib\\site-packages (from anyio<5.0,>=3.0->httpcore<0.18.0,>=0.15.0->httpx->gradio==3.35.2->-r requirements.txt (line 2)) (1.1.0)\n",
      "Note: you may need to restart the kernel to use updated packages.\n"
     ]
    }
   ],
   "source": [
    "# @markdown # First run this section clone code and install dependencies\n",
    "\n",
    "# @markdown ---\n",
    "\n",
    "%cd /content/\n",
    "repository_url = \"https://github.com/rasht-org/cmusic\"\n",
    "repository_branch = \"main\"\n",
    "\n",
    "! git clone {repository_url}\n",
    "%cd /content/cmusic\n",
    "! git checkout {repository_branch}\n",
    "\n",
    "%pip install -r requirements.txt"
   ]
  },
  {
   "cell_type": "code",
   "execution_count": 5,
   "metadata": {},
   "outputs": [
    {
     "name": "stdout",
     "output_type": "stream",
     "text": [
      "^C\n"
     ]
    }
   ],
   "source": [
    "# @markdown # Run the code\n",
    "\n",
    "# @markdown ---\n",
    "\n",
    "!python cmusic_gradio.py"
   ]
  }
 ],
 "metadata": {
  "kernelspec": {
   "display_name": "Python 3",
   "language": "python",
   "name": "python3"
  },
  "language_info": {
   "codemirror_mode": {
    "name": "ipython",
    "version": 3
   },
   "file_extension": ".py",
   "mimetype": "text/x-python",
   "name": "python",
   "nbconvert_exporter": "python",
   "pygments_lexer": "ipython3",
   "version": "3.10.6"
  },
  "orig_nbformat": 4
 },
 "nbformat": 4,
 "nbformat_minor": 2
}
